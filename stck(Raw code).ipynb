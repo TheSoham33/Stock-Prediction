{
 "cells": [
  {
   "cell_type": "code",
   "execution_count": 3,
   "metadata": {},
   "outputs": [
    {
     "ename": "NameError",
     "evalue": "name 'yf' is not defined",
     "output_type": "error",
     "traceback": [
      "\u001b[1;31m---------------------------------------------------------------------------\u001b[0m",
      "\u001b[1;31mNameError\u001b[0m                                 Traceback (most recent call last)",
      "Cell \u001b[1;32mIn[3], line 19\u001b[0m\n\u001b[0;32m     17\u001b[0m first \u001b[38;5;241m=\u001b[39m \u001b[38;5;124m\"\u001b[39m\u001b[38;5;124m2022-05-01\u001b[39m\u001b[38;5;124m\"\u001b[39m\n\u001b[0;32m     18\u001b[0m end \u001b[38;5;241m=\u001b[39m \u001b[38;5;124m\"\u001b[39m\u001b[38;5;124m2022-11-11\u001b[39m\u001b[38;5;124m\"\u001b[39m\n\u001b[1;32m---> 19\u001b[0m df \u001b[38;5;241m=\u001b[39m \u001b[43myf\u001b[49m\u001b[38;5;241m.\u001b[39mdownload(user_input, start\u001b[38;5;241m=\u001b[39mfirst, end\u001b[38;5;241m=\u001b[39m end)\n\u001b[0;32m     21\u001b[0m df \u001b[38;5;241m=\u001b[39m yf\u001b[38;5;241m.\u001b[39mdownload(user_input, start\u001b[38;5;241m=\u001b[39mfirst, end\u001b[38;5;241m=\u001b[39m end)\n\u001b[0;32m     22\u001b[0m \u001b[38;5;28mprint\u001b[39m(df)\n",
      "\u001b[1;31mNameError\u001b[0m: name 'yf' is not defined"
     ]
    }
   ],
   "source": [
    "# For data manipulation\n",
    "import numpy as np\n",
    "import pandas_datareader as data\n",
    "import pandas as pd\n",
    "\n",
    "# To plot\n",
    "import matplotlib.pyplot as plt\n",
    "\n",
    "\n",
    "# For web app\n",
    "import streamlit as st\n",
    "\n",
    "# To ignore warnings\n",
    "import warnings\n",
    "warnings.filterwarnings(\"ignore\")\n",
    "#df = pd.read_csv(\"AMZN.csv\")#index_col=\"Date\"\n",
    "\n",
    "first = \"2022-05-01\"\n",
    "end = \"2022-11-11\"\n",
    "\n",
    "df = data.DataReader('TSLA', 'yahoo', first, end)\n",
    "print(df)"
   ]
  },
  {
   "cell_type": "code",
   "execution_count": 2,
   "metadata": {},
   "outputs": [],
   "source": [
    "#df.index = pd.to_datetime(df['Date'])\n",
    "#print(df)"
   ]
  },
  {
   "cell_type": "code",
   "execution_count": 3,
   "metadata": {},
   "outputs": [
    {
     "name": "stdout",
     "output_type": "stream",
     "text": [
      "          Date        Open   Adj Close\n",
      "0   2022-05-02  286.923340  300.980011\n",
      "1   2022-05-03  301.059998  303.083344\n",
      "2   2022-05-04  301.313324  317.540009\n",
      "3   2022-05-05  313.006653  291.093323\n",
      "4   2022-05-06  295.666656  288.549988\n",
      "..         ...         ...         ...\n",
      "131 2022-11-07  208.649994  197.080002\n",
      "132 2022-11-08  194.020004  191.300003\n",
      "133 2022-11-09  190.779999  177.589996\n",
      "134 2022-11-10  189.899994  190.720001\n",
      "135 2022-11-11  186.000000  195.970001\n",
      "\n",
      "[136 rows x 3 columns]\n"
     ]
    }
   ],
   "source": [
    "\n",
    "df = df.drop(['Low'], axis='columns')\n",
    "df = df.drop(['Close'], axis='columns')\n",
    "df = df.drop(['Volume'], axis='columns')\n",
    "df = df.drop(['High'], axis='columns')\n",
    "#df = df.drop(['Date'], axis='columns')\n",
    "time_index = df.reset_index()[['Date']] #replace utc with your index name\n",
    "df = df.reset_index()\n",
    "print(df)\n",
    "\n"
   ]
  },
  {
   "cell_type": "code",
   "execution_count": 4,
   "metadata": {},
   "outputs": [
    {
     "name": "stdout",
     "output_type": "stream",
     "text": [
      "['2022-05-02T00:00:00.000000000' '2022-05-03T00:00:00.000000000'\n",
      " '2022-05-04T00:00:00.000000000' '2022-05-05T00:00:00.000000000'\n",
      " '2022-05-06T00:00:00.000000000' '2022-05-09T00:00:00.000000000'\n",
      " '2022-05-10T00:00:00.000000000' '2022-05-11T00:00:00.000000000'\n",
      " '2022-05-12T00:00:00.000000000' '2022-05-13T00:00:00.000000000'\n",
      " '2022-05-16T00:00:00.000000000' '2022-05-17T00:00:00.000000000'\n",
      " '2022-05-18T00:00:00.000000000' '2022-05-19T00:00:00.000000000'\n",
      " '2022-05-20T00:00:00.000000000' '2022-05-23T00:00:00.000000000'\n",
      " '2022-05-24T00:00:00.000000000' '2022-05-25T00:00:00.000000000'\n",
      " '2022-05-26T00:00:00.000000000' '2022-05-27T00:00:00.000000000'\n",
      " '2022-05-31T00:00:00.000000000' '2022-06-01T00:00:00.000000000'\n",
      " '2022-06-02T00:00:00.000000000' '2022-06-03T00:00:00.000000000'\n",
      " '2022-06-06T00:00:00.000000000' '2022-06-07T00:00:00.000000000'\n",
      " '2022-06-08T00:00:00.000000000' '2022-06-09T00:00:00.000000000'\n",
      " '2022-06-10T00:00:00.000000000' '2022-06-13T00:00:00.000000000'\n",
      " '2022-06-14T00:00:00.000000000' '2022-06-15T00:00:00.000000000'\n",
      " '2022-06-16T00:00:00.000000000' '2022-06-17T00:00:00.000000000'\n",
      " '2022-06-21T00:00:00.000000000' '2022-06-22T00:00:00.000000000'\n",
      " '2022-06-23T00:00:00.000000000' '2022-06-24T00:00:00.000000000'\n",
      " '2022-06-27T00:00:00.000000000' '2022-06-28T00:00:00.000000000'\n",
      " '2022-06-29T00:00:00.000000000' '2022-06-30T00:00:00.000000000'\n",
      " '2022-07-01T00:00:00.000000000' '2022-07-05T00:00:00.000000000'\n",
      " '2022-07-06T00:00:00.000000000' '2022-07-07T00:00:00.000000000'\n",
      " '2022-07-08T00:00:00.000000000' '2022-07-11T00:00:00.000000000'\n",
      " '2022-07-12T00:00:00.000000000' '2022-07-13T00:00:00.000000000'\n",
      " '2022-07-14T00:00:00.000000000' '2022-07-15T00:00:00.000000000'\n",
      " '2022-07-18T00:00:00.000000000' '2022-07-19T00:00:00.000000000'\n",
      " '2022-07-20T00:00:00.000000000' '2022-07-21T00:00:00.000000000'\n",
      " '2022-07-22T00:00:00.000000000' '2022-07-25T00:00:00.000000000'\n",
      " '2022-07-26T00:00:00.000000000' '2022-07-27T00:00:00.000000000'\n",
      " '2022-07-28T00:00:00.000000000' '2022-07-29T00:00:00.000000000'\n",
      " '2022-08-01T00:00:00.000000000' '2022-08-02T00:00:00.000000000'\n",
      " '2022-08-03T00:00:00.000000000' '2022-08-04T00:00:00.000000000'\n",
      " '2022-08-05T00:00:00.000000000' '2022-08-08T00:00:00.000000000'\n",
      " '2022-08-09T00:00:00.000000000' '2022-08-10T00:00:00.000000000'\n",
      " '2022-08-11T00:00:00.000000000' '2022-08-12T00:00:00.000000000'\n",
      " '2022-08-15T00:00:00.000000000' '2022-08-16T00:00:00.000000000'\n",
      " '2022-08-17T00:00:00.000000000' '2022-08-18T00:00:00.000000000'\n",
      " '2022-08-19T00:00:00.000000000' '2022-08-22T00:00:00.000000000'\n",
      " '2022-08-23T00:00:00.000000000' '2022-08-24T00:00:00.000000000'\n",
      " '2022-08-25T00:00:00.000000000' '2022-08-26T00:00:00.000000000'\n",
      " '2022-08-29T00:00:00.000000000' '2022-08-30T00:00:00.000000000'\n",
      " '2022-08-31T00:00:00.000000000' '2022-09-01T00:00:00.000000000'\n",
      " '2022-09-02T00:00:00.000000000' '2022-09-06T00:00:00.000000000'\n",
      " '2022-09-07T00:00:00.000000000' '2022-09-08T00:00:00.000000000'\n",
      " '2022-09-09T00:00:00.000000000' '2022-09-12T00:00:00.000000000'\n",
      " '2022-09-13T00:00:00.000000000' '2022-09-14T00:00:00.000000000'\n",
      " '2022-09-15T00:00:00.000000000' '2022-09-16T00:00:00.000000000'\n",
      " '2022-09-19T00:00:00.000000000' '2022-09-20T00:00:00.000000000'\n",
      " '2022-09-21T00:00:00.000000000' '2022-09-22T00:00:00.000000000'\n",
      " '2022-09-23T00:00:00.000000000' '2022-09-26T00:00:00.000000000'\n",
      " '2022-09-27T00:00:00.000000000' '2022-09-28T00:00:00.000000000'\n",
      " '2022-09-29T00:00:00.000000000' '2022-09-30T00:00:00.000000000'\n",
      " '2022-10-03T00:00:00.000000000' '2022-10-04T00:00:00.000000000'\n",
      " '2022-10-05T00:00:00.000000000' '2022-10-06T00:00:00.000000000'\n",
      " '2022-10-07T00:00:00.000000000' '2022-10-10T00:00:00.000000000'\n",
      " '2022-10-11T00:00:00.000000000' '2022-10-12T00:00:00.000000000'\n",
      " '2022-10-13T00:00:00.000000000' '2022-10-14T00:00:00.000000000'\n",
      " '2022-10-17T00:00:00.000000000' '2022-10-18T00:00:00.000000000'\n",
      " '2022-10-19T00:00:00.000000000' '2022-10-20T00:00:00.000000000'\n",
      " '2022-10-21T00:00:00.000000000' '2022-10-24T00:00:00.000000000'\n",
      " '2022-10-25T00:00:00.000000000' '2022-10-26T00:00:00.000000000'\n",
      " '2022-10-27T00:00:00.000000000' '2022-10-28T00:00:00.000000000'\n",
      " '2022-10-31T00:00:00.000000000' '2022-11-01T00:00:00.000000000'\n",
      " '2022-11-02T00:00:00.000000000' '2022-11-03T00:00:00.000000000'\n",
      " '2022-11-04T00:00:00.000000000' '2022-11-07T00:00:00.000000000'\n",
      " '2022-11-08T00:00:00.000000000' '2022-11-09T00:00:00.000000000'\n",
      " '2022-11-10T00:00:00.000000000' '2022-11-11T00:00:00.000000000']\n"
     ]
    }
   ],
   "source": [
    "Date1 = df.drop(['Open','Adj Close'], axis='columns')\n",
    "Date1 = Date1[Date1.columns[-1]].values\n",
    "print(Date1)\n"
   ]
  },
  {
   "cell_type": "code",
   "execution_count": 5,
   "metadata": {},
   "outputs": [],
   "source": [
    "df = df.drop(['Date'], axis='columns')"
   ]
  },
  {
   "cell_type": "code",
   "execution_count": 6,
   "metadata": {},
   "outputs": [
    {
     "data": {
      "text/plain": [
       "(136, 2)"
      ]
     },
     "execution_count": 6,
     "metadata": {},
     "output_type": "execute_result"
    }
   ],
   "source": [
    "df.shape"
   ]
  },
  {
   "cell_type": "code",
   "execution_count": 7,
   "metadata": {},
   "outputs": [
    {
     "data": {
      "text/plain": [
       "Open         0\n",
       "Adj Close    0\n",
       "dtype: int64"
      ]
     },
     "execution_count": 7,
     "metadata": {},
     "output_type": "execute_result"
    }
   ],
   "source": [
    "df.isnull().sum()"
   ]
  },
  {
   "cell_type": "code",
   "execution_count": 8,
   "metadata": {},
   "outputs": [
    {
     "name": "stdout",
     "output_type": "stream",
     "text": [
      "[[286.92333984]\n",
      " [301.05999756]\n",
      " [301.31332397]\n",
      " [313.00665283]\n",
      " [295.66665649]\n",
      " [278.81668091]\n",
      " [273.10333252]\n",
      " [265.        ]\n",
      " [233.66667175]\n",
      " [257.82666016]\n",
      " [255.72000122]\n",
      " [249.11999512]\n",
      " [248.17333984]\n",
      " [235.66667175]\n",
      " [237.99667358]\n",
      " [218.33999634]\n",
      " [217.84333801]\n",
      " [207.94999695]\n",
      " [220.47332764]\n",
      " [241.08332825]\n",
      " [257.94665527]\n",
      " [251.72000122]\n",
      " [244.15666199]\n",
      " [243.22666931]\n",
      " [244.35333252]\n",
      " [234.        ]\n",
      " [240.08666992]\n",
      " [249.33999634]\n",
      " [235.15666199]\n",
      " [223.16667175]\n",
      " [218.28666687]\n",
      " [220.91667175]\n",
      " [222.73666382]\n",
      " [213.43333435]\n",
      " [224.60333252]\n",
      " [234.50332642]\n",
      " [237.90666199]\n",
      " [237.47000122]\n",
      " [249.3666687 ]\n",
      " [244.4833374 ]\n",
      " [230.5       ]\n",
      " [224.50999451]\n",
      " [227.        ]\n",
      " [223.        ]\n",
      " [230.77999878]\n",
      " [233.91999817]\n",
      " [242.33332825]\n",
      " [252.10333252]\n",
      " [236.84666443]\n",
      " [225.5       ]\n",
      " [234.89666748]\n",
      " [240.        ]\n",
      " [244.93666077]\n",
      " [245.        ]\n",
      " [246.78334045]\n",
      " [255.10667419]\n",
      " [276.22000122]\n",
      " [272.2166748 ]\n",
      " [266.51333618]\n",
      " [263.80999756]\n",
      " [280.06668091]\n",
      " [280.70001221]\n",
      " [301.27667236]\n",
      " [294.00332642]\n",
      " [305.        ]\n",
      " [311.        ]\n",
      " [302.67001343]\n",
      " [295.        ]\n",
      " [290.29333496]\n",
      " [297.06668091]\n",
      " [296.51333618]\n",
      " [289.41665649]\n",
      " [301.78668213]\n",
      " [311.66665649]\n",
      " [303.39666748]\n",
      " [306.        ]\n",
      " [299.        ]\n",
      " [291.91333008]\n",
      " [291.45333862]\n",
      " [297.56332397]\n",
      " [302.35998535]\n",
      " [297.42999268]\n",
      " [282.82998657]\n",
      " [287.86999512]\n",
      " [280.61999512]\n",
      " [272.57998657]\n",
      " [281.07000732]\n",
      " [272.67999268]\n",
      " [273.1000061 ]\n",
      " [281.29998779]\n",
      " [291.67001343]\n",
      " [300.72000122]\n",
      " [292.8999939 ]\n",
      " [292.23999023]\n",
      " [301.82998657]\n",
      " [299.60998535]\n",
      " [300.08999634]\n",
      " [306.91000366]\n",
      " [308.29000854]\n",
      " [299.85998535]\n",
      " [283.08999634]\n",
      " [271.82998657]\n",
      " [283.83999634]\n",
      " [283.07998657]\n",
      " [282.76000977]\n",
      " [266.1499939 ]\n",
      " [254.5       ]\n",
      " [250.52000427]\n",
      " [245.00999451]\n",
      " [239.44000244]\n",
      " [233.94000244]\n",
      " [223.92999268]\n",
      " [220.94999695]\n",
      " [215.33000183]\n",
      " [208.30000305]\n",
      " [224.00999451]\n",
      " [210.03999329]\n",
      " [229.5       ]\n",
      " [219.80000305]\n",
      " [208.27999878]\n",
      " [206.41999817]\n",
      " [205.82000732]\n",
      " [210.1000061 ]\n",
      " [219.3999939 ]\n",
      " [229.77000427]\n",
      " [225.3999939 ]\n",
      " [226.19000244]\n",
      " [234.05000305]\n",
      " [226.03999329]\n",
      " [211.36000061]\n",
      " [222.6000061 ]\n",
      " [208.6499939 ]\n",
      " [194.02000427]\n",
      " [190.77999878]\n",
      " [189.8999939 ]\n",
      " [186.        ]]\n",
      "[300.98001099 303.08334351 317.54000854 291.09332275 288.54998779\n",
      " 262.36999512 266.67999268 244.66667175 242.66667175 256.52999878\n",
      " 241.45666504 253.86999512 236.60333252 236.47332764 221.30000305\n",
      " 224.96665955 209.38667297 219.6000061  235.91000366 253.21000671\n",
      " 252.75332642 246.78999329 258.33334351 234.5166626  238.27999878\n",
      " 238.88667297 241.8666687  239.70666504 232.22999573 215.73666382\n",
      " 220.88999939 233.         213.1000061  216.75999451 237.03666687\n",
      " 236.08666992 235.07000732 245.70666504 244.91999817 232.66333008\n",
      " 228.49000549 224.47332764 227.26333618 233.06666565 231.7333374\n",
      " 244.54333496 250.76333618 234.34333801 233.07000732 237.03999329\n",
      " 238.31333923 240.06666565 240.54666138 245.52999878 247.5\n",
      " 271.70666504 272.24334717 268.43331909 258.85998535 274.82000732\n",
      " 280.8999939  297.1499939  297.27667236 300.58666992 307.39666748\n",
      " 308.6333313  288.17001343 290.42333984 283.33334351 294.35665894\n",
      " 286.63000488 300.02999878 309.32000732 306.56332397 303.99667358\n",
      " 302.86999512 296.66665649 289.91333008 296.45333862 297.09667969\n",
      " 296.07000732 288.08999634 284.82000732 277.70001221 275.60998535\n",
      " 277.16000366 270.20999146 274.42001343 283.70001221 289.26000977\n",
      " 299.67999268 304.42001343 292.13000488 302.60998535 303.75\n",
      " 303.3500061  309.07000732 308.73001099 300.79998779 288.58999634\n",
      " 275.32998657 276.01000977 282.94000244 287.80999756 268.20999146\n",
      " 265.25       242.3999939  249.44000244 240.80999756 238.13000488\n",
      " 223.07000732 222.96000671 216.5        217.24000549 221.72000122\n",
      " 204.99000549 219.3500061  220.19000244 222.03999329 207.27999878\n",
      " 214.44000244 211.25       222.41999817 224.63999939 225.08999634\n",
      " 228.52000427 227.53999329 227.82000732 214.97999573 215.30999756\n",
      " 207.47000122 197.08000183 191.30000305 177.58999634 190.72000122\n",
      " 195.97000122]\n"
     ]
    }
   ],
   "source": [
    "X = df[df.columns[:-1]].values\n",
    "y = df[df.columns[-1]].values\n",
    "X.shape\n",
    "print(X)\n",
    "print(y)\n"
   ]
  },
  {
   "cell_type": "code",
   "execution_count": 9,
   "metadata": {},
   "outputs": [],
   "source": [
    "split_percentage = 0.8\n",
    "split = int(split_percentage*len(df))\n",
    "\n",
    "D1 = Date1[:split]\n",
    "# Train data set\n",
    "X_train = X[:split]\n",
    "y_train = y[:split]\n",
    "\n",
    "# Test data set\n",
    "X_test = X[split:]\n",
    "y_test = y[split:]\n",
    "D2 = Date1[split:]"
   ]
  },
  {
   "cell_type": "code",
   "execution_count": 10,
   "metadata": {},
   "outputs": [],
   "source": [
    "from sklearn.linear_model import LinearRegression\n",
    "model = LinearRegression().fit(X_train, y_train)"
   ]
  },
  {
   "cell_type": "code",
   "execution_count": 11,
   "metadata": {},
   "outputs": [
    {
     "name": "stdout",
     "output_type": "stream",
     "text": [
      "intercept: 12.45304616186641\n",
      "slope: [0.95152087]\n"
     ]
    }
   ],
   "source": [
    "print(f\"intercept: {model.intercept_}\")  # b0\n",
    "print(f\"slope: {model.coef_}\")\n"
   ]
  },
  {
   "cell_type": "code",
   "execution_count": 12,
   "metadata": {},
   "outputs": [],
   "source": [
    "y_pred = model.predict(X_test)"
   ]
  },
  {
   "cell_type": "code",
   "execution_count": 13,
   "metadata": {},
   "outputs": [
    {
     "name": "stdout",
     "output_type": "stream",
     "text": [
      "                Actual   Predicted\n",
      "Date                              \n",
      "2022-10-05  240.809998  245.585170\n",
      "2022-10-06  238.130005  240.285206\n",
      "2022-10-07  223.070007  235.051841\n",
      "2022-10-10  222.960007  225.527108\n",
      "2022-10-11  216.500000  222.691580\n",
      "2022-10-12  217.240005  217.344037\n",
      "2022-10-13  221.720001  210.654847\n",
      "2022-10-14  204.990005  225.603231\n",
      "2022-10-17  219.350006  212.310484\n",
      "2022-10-18  220.190002  230.827086\n",
      "2022-10-19  222.039993  221.597337\n",
      "2022-10-20  207.279999  210.635812\n",
      "2022-10-21  214.440002  208.865983\n",
      "2022-10-24  211.250000  208.295079\n",
      "2022-10-25  222.419998  212.367587\n",
      "2022-10-26  224.639999  221.216719\n",
      "2022-10-27  225.089996  231.084001\n",
      "2022-10-28  228.520004  226.925845\n",
      "2022-10-31  227.539993  227.677554\n",
      "2022-11-01  227.820007  235.156509\n",
      "2022-11-02  214.979996  227.534817\n",
      "2022-11-03  215.309998  213.566498\n",
      "2022-11-04  207.470001  224.261598\n",
      "2022-11-07  197.080002  210.987870\n",
      "2022-11-08  191.300003  197.067130\n",
      "2022-11-09  177.589996  193.984197\n",
      "2022-11-10  190.720001  193.146854\n",
      "2022-11-11  195.970001  189.435928\n"
     ]
    }
   ],
   "source": [
    "df = pd.DataFrame({'Date':D2, 'Actual':y_test, 'Predicted':y_pred})\n",
    "df.index = pd.to_datetime(df['Date'])\n",
    "df = df.drop(['Date'], axis='columns')\n",
    "print(df)"
   ]
  },
  {
   "cell_type": "code",
   "execution_count": 14,
   "metadata": {},
   "outputs": [
    {
     "data": {
      "image/png": "[encoded data removed]",
      "text/plain": [
       "<Figure size 864x432 with 1 Axes>"
      ]
     },
     "metadata": {
      "needs_background": "light"
     },
     "output_type": "display_data"
    }
   ],
   "source": [
    "fig1 = plt.figure(figsize=(12,6))\n",
    "plt.plot(df['Actual'])\n",
    "plt.xlabel('Date')\n",
    "plt.ylabel('Price')\n",
    "plt.show()"
   ]
  },
  {
   "cell_type": "code",
   "execution_count": 15,
   "metadata": {},
   "outputs": [
    {
     "data": {
      "image/png": "[encoded data removed]",
      "text/plain": [
       "<Figure size 864x432 with 1 Axes>"
      ]
     },
     "metadata": {
      "needs_background": "light"
     },
     "output_type": "display_data"
    }
   ],
   "source": [
    "fig2 = plt.figure(figsize=(12,6))\n",
    "plt.plot(df['Predicted'],'green')\n",
    "plt.xlabel('Date')\n",
    "plt.ylabel('Price')\n",
    "plt.show()"
   ]
  },
  {
   "cell_type": "code",
   "execution_count": 16,
   "metadata": {},
   "outputs": [
    {
     "data": {
      "image/png": "[encoded data removed]",
      "text/plain": [
       "<Figure size 864x432 with 1 Axes>"
      ]
     },
     "metadata": {
      "needs_background": "light"
     },
     "output_type": "display_data"
    }
   ],
   "source": [
    "fig3 = plt.figure(figsize=(12,6))\n",
    "plt.plot(df['Actual'])\n",
    "plt.plot(df['Predicted'],'green')\n",
    "plt.xlabel('Date')\n",
    "plt.ylabel('Price')\n",
    "plt.show()\n"
   ]
  },
  {
   "cell_type": "code",
   "execution_count": 17,
   "metadata": {},
   "outputs": [
    {
     "name": "stdout",
     "output_type": "stream",
     "text": [
      "Mean squared error: 77.46419271816515\n",
      "Root Mean squared error: 8.801374478918913\n",
      "r2 Score: 0.619150632141386\n"
     ]
    },
    {
     "data": {
      "text/plain": [
       "<bound method WriteMixin.write of DeltaGenerator(_root_container=0, _provided_cursor=None, _parent=None, _block_type=None, _form_data=None)>"
      ]
     },
     "execution_count": 17,
     "metadata": {},
     "output_type": "execute_result"
    }
   ],
   "source": [
    "from sklearn.metrics import mean_squared_error, r2_score\n",
    "print(\"Mean squared error:\",mean_squared_error(y_test,y_pred))\n",
    "print(\"Root Mean squared error:\",np.sqrt(mean_squared_error(y_test,y_pred)))\n",
    "print(\"r2 Score:\",r2_score(y_test,y_pred))\n",
    "st.write\n",
    "#df['Actual']=df.head(-1)\n",
    "#print(df['Actual'])"
   ]
  }
 ],
 "metadata": {
  "kernelspec": {
   "display_name": "Python 3.9.2 64-bit",
   "language": "python",
   "name": "python3"
  },
  "language_info": {
   "codemirror_mode": {
    "name": "ipython",
    "version": 3
   },
   "file_extension": ".py",
   "mimetype": "text/x-python",
   "name": "python",
   "nbconvert_exporter": "python",
   "pygments_lexer": "ipython3",
   "version": "3.12.5"
  },
  "orig_nbformat": 4,
  "vscode": {
   "interpreter": {
    "hash": "d9db2fc0b4678af2c28ed4f0c3493a62a8122e734eb27111a3e518f7d02599a4"
   }
  }
 },
 "nbformat": 4,
 "nbformat_minor": 2
}
